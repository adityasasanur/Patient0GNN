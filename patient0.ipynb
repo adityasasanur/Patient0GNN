{
 "cells": [
  {
   "cell_type": "markdown",
   "metadata": {},
   "source": [
    "# Training GNNs to detect patient 0"
   ]
  },
  {
   "cell_type": "markdown",
   "metadata": {},
   "source": [
    "## Imports"
   ]
  },
  {
   "cell_type": "code",
   "execution_count": 1,
   "metadata": {},
   "outputs": [],
   "source": [
    "import torch\n",
    "import torch.nn as nn\n",
    "import torch.nn.functional as F\n",
    "import networkx as nx\n",
    "import ndlib.models.epidemics as ep\n",
    "import ndlib.models.ModelConfig as mc\n",
    "import ndlib\n",
    "import numpy as np\n",
    "\n",
    "import plotly.graph_objects as go"
   ]
  },
  {
   "cell_type": "markdown",
   "metadata": {},
   "source": [
    "## Training Data"
   ]
  },
  {
   "cell_type": "code",
   "execution_count": 181,
   "metadata": {},
   "outputs": [
    {
     "name": "stderr",
     "output_type": "stream",
     "text": [
      "/var/folders/hp/_5r1484j457cv8ysknrcyhvr0000gn/T/ipykernel_99427/1924104420.py:37: FutureWarning:\n",
      "\n",
      "adjacency_matrix will return a scipy.sparse array instead of a matrix in Networkx 3.0.\n",
      "\n"
     ]
    }
   ],
   "source": [
    "NUM_NODES = 50\n",
    "NUM_EDGES = 100\n",
    "NUM_TRAINING = 10000\n",
    "BETA = 0.15\n",
    "GAMMA = 0\n",
    "TRAINING_SPLIT = 0.7\n",
    "def generate_data(NUM_P0s, NUM_ITERATIONS, SNAPSHOT_ARRAY):\n",
    "    # Generate 50 graphs, each with 50 nodes\n",
    "    NUM_P0s = 1\n",
    "\n",
    "    graphs = np.zeros((NUM_TRAINING, NUM_NODES, NUM_NODES))\n",
    "    nodes_statuses = np.zeros((NUM_TRAINING, NUM_NODES, len(SNAPSHOT_ARRAY)))\n",
    "    initial_infected = []\n",
    "    for i in range(NUM_TRAINING):\n",
    "        graph = nx.gnm_random_graph(NUM_NODES, NUM_EDGES)\n",
    "        # graph = nx.maximum_branching(graph)\n",
    "        p0= np.random.randint(NUM_NODES,size=NUM_P0s)\n",
    "        config = mc.Configuration()\n",
    "        config.add_model_initial_configuration(\"Infected\", p0)\n",
    "        config.add_model_parameter(\"beta\", BETA)\n",
    "        config.add_model_parameter(\"gamma\", GAMMA)\n",
    "\n",
    "        model = ep.SIRModel(graph)\n",
    "        model.set_initial_status(config)\n",
    "\n",
    "        iterations = model.iteration_bunch(NUM_ITERATIONS)\n",
    "        statuses = [iteration['status'] for iteration in iterations]\n",
    "        union_of_statuses = {k:0 for k in range(NUM_NODES)}\n",
    "        ind = 0\n",
    "        for step,status in enumerate(statuses):\n",
    "            union_of_statuses.update(status)\n",
    "            if step in SNAPSHOT_ARRAY:\n",
    "                # print(([v for _,v in sorted(union_of_statuses.items(), key=lambda item: item[0])]))\n",
    "                nodes_statuses[i,:,ind] = ([v for _,v in sorted(union_of_statuses.items(), key=lambda item: item[0])])\n",
    "                ind += 1\n",
    "\n",
    "        graphs[i,:,:] = np.array(nx.adjacency_matrix(graph).todense())  # Convert sparse matrix to dense matrix\n",
    "        # nodes_statuses.append([v for _,v in sorted(union_of_statuses.items(), key=lambda item: item[0])])\n",
    "        initial_infected.append([1 if i in p0 else 0 for i in range(NUM_NODES)])\n",
    "\n",
    "    return graphs, nodes_statuses, initial_infected\n",
    "\n",
    "graphs, nodes_statuses, initial_infected = generate_data(1, 5, [2,4])\n",
    "# print(nodes_statuses[-1])"
   ]
  },
  {
   "cell_type": "markdown",
   "metadata": {},
   "source": [
    "## Graph Visualization"
   ]
  },
  {
   "cell_type": "code",
   "execution_count": 176,
   "metadata": {},
   "outputs": [
    {
     "name": "stdout",
     "output_type": "stream",
     "text": [
      "[0. 0. 0. 0. 0. 0. 0. 0. 0. 0. 0. 0. 0. 0. 0. 0. 0. 0. 0. 0. 0. 0. 1. 0.\n",
      " 0. 0. 0. 0. 0. 0. 0. 0. 0. 0. 1. 0. 0. 0. 0. 0. 0. 0. 0. 0. 0. 0. 0. 0.\n",
      " 0. 0.]\n"
     ]
    },
    {
     "data": {
      "application/vnd.plotly.v1+json": {
       "config": {
        "plotlyServerURL": "https://plot.ly"
       },
       "data": [
        {
         "hoverinfo": "none",
         "line": {
          "color": "#888",
          "width": 0.5
         },
         "mode": "lines",
         "type": "scatter",
         "x": [
          -0.18508333074320102,
          -0.22279232830081871,
          null,
          -0.18508333074320102,
          -0.18397561951654373,
          null,
          -0.18508333074320102,
          -0.15401216073447013,
          null,
          -0.18508333074320102,
          -0.13208710712380664,
          null,
          -0.18508333074320102,
          -0.24324488954432552,
          null,
          0.5506565367374933,
          0.5550984313053624,
          null,
          0.5506565367374933,
          0.47243583101097747,
          null,
          0.5506565367374933,
          0.6338336007775947,
          null,
          0.5506565367374933,
          0.6089812898624886,
          null,
          -0.22279232830081871,
          -0.3965445650647933,
          null,
          -0.22279232830081871,
          -0.03278345427660621,
          null,
          -0.22279232830081871,
          -0.26776618999892376,
          null,
          -0.22279232830081871,
          -0.2925858220274296,
          null,
          -0.3965445650647933,
          -0.5479401538349893,
          null,
          -0.3965445650647933,
          -0.4688757896591856,
          null,
          0.44416072760483993,
          0.40148432635507575,
          null,
          0.44416072760483993,
          0.400619907699943,
          null,
          0.44416072760483993,
          0.5242592173871969,
          null,
          0.44416072760483993,
          0.43920546509533015,
          null,
          0.40148432635507575,
          0.30414340163832854,
          null,
          0.40148432635507575,
          0.45623158671697006,
          null,
          0.40148432635507575,
          0.4913928769989435,
          null,
          0.40148432635507575,
          0.37525570885588727,
          null,
          -0.5479401538349893,
          -0.6808672837080888,
          null,
          -0.5479401538349893,
          -0.5687097456244476,
          null,
          -0.5479401538349893,
          -0.6143188802290228,
          null,
          -0.6808672837080888,
          -0.7424412568778734,
          null,
          -0.6808672837080888,
          -0.7659018274194289,
          null,
          -0.24816831541413073,
          -0.3081410240125815,
          null,
          -0.24816831541413073,
          -0.25253073918013336,
          null,
          0.06805804903927597,
          0.07868808271884935,
          null,
          -0.03278345427660621,
          0.12871406625616727,
          null,
          -0.03278345427660621,
          0.01934758411451839,
          null,
          -0.03278345427660621,
          0.008447987251822744,
          null,
          0.12871406625616727,
          0.1868071358511345,
          null,
          0.12871406625616727,
          0.22362048496630701,
          null,
          0.12871406625616727,
          0.20545415069091102,
          null,
          0.30414340163832854,
          0.2525423523595844,
          null,
          -0.24272881510458952,
          -0.21822335305296717,
          null,
          0.2525423523595844,
          0.23051494850186238,
          null,
          -0.15401216073447013,
          -0.1405864998932751,
          null
         ],
         "y": [
          0.15617701132859238,
          0.03589884283766489,
          null,
          0.15617701132859238,
          0.2457921826125523,
          null,
          0.15617701132859238,
          0.08271965390652203,
          null,
          0.15617701132859238,
          0.2222783085252949,
          null,
          0.15617701132859238,
          0.2219743507616558,
          null,
          0.6579988903635781,
          0.7401128534883912,
          null,
          0.6579988903635781,
          0.5785309128058973,
          null,
          0.6579988903635781,
          0.6639150766252953,
          null,
          0.6579988903635781,
          0.7172742087307804,
          null,
          0.03589884283766489,
          -0.02787268264081003,
          null,
          0.03589884283766489,
          0.0357991534843283,
          null,
          0.03589884283766489,
          -0.024496882099561305,
          null,
          0.03589884283766489,
          0.06748979413854912,
          null,
          -0.02787268264081003,
          -0.09595534878878989,
          null,
          -0.02787268264081003,
          -0.011334291827378228,
          null,
          -0.613900949136346,
          -0.5293719734635448,
          null,
          -0.613900949136346,
          -0.6803304326960112,
          null,
          -0.613900949136346,
          -0.6636624283131394,
          null,
          -0.613900949136346,
          -0.6555773465120179,
          null,
          -0.5293719734635448,
          -0.5902646291329318,
          null,
          -0.5293719734635448,
          -0.4685789446584116,
          null,
          -0.5293719734635448,
          -0.5346347098100874,
          null,
          -0.5293719734635448,
          -0.4587203305572425,
          null,
          -0.09595534878878989,
          -0.10592693520468185,
          null,
          -0.09595534878878989,
          -0.17657123274051334,
          null,
          -0.09595534878878989,
          -0.13210929077569644,
          null,
          -0.10592693520468185,
          -0.06822341490122735,
          null,
          -0.10592693520468185,
          -0.14239869007080258,
          null,
          -0.9081180695615475,
          -0.9351147094708336,
          null,
          -0.9081180695615475,
          -0.9885907764295122,
          null,
          0.7825449397314543,
          0.8521410749938588,
          null,
          0.0357991534843283,
          0.05300693320585148,
          null,
          0.0357991534843283,
          0.08059017895623748,
          null,
          0.0357991534843283,
          -0.029241376381910177,
          null,
          0.05300693320585148,
          0.11584560197562031,
          null,
          0.05300693320585148,
          0.0672607494571411,
          null,
          0.05300693320585148,
          0.010453525243115836,
          null,
          -0.5902646291329318,
          -0.6819768036655809,
          null,
          0.9108832407894023,
          0.9556538328153147,
          null,
          -0.6819768036655809,
          -0.76405324753245,
          null,
          0.08271965390652203,
          0.0053101642619526,
          null
         ]
        },
        {
         "hoverinfo": "text",
         "marker": {
          "color": [
           5,
           4,
           5,
           3,
           4,
           5,
           4,
           3,
           2,
           1,
           4,
           4,
           2,
           1,
           1,
           1,
           0,
           1,
           1,
           1,
           0,
           1,
           1,
           1,
           2,
           1,
           1,
           0,
           1,
           2,
           1,
           1,
           1,
           1,
           1,
           1,
           1,
           1,
           1,
           1,
           1,
           1,
           1,
           1,
           1,
           1,
           1,
           1,
           1,
           1
          ],
          "colorbar": {
           "thickness": 15,
           "title": {
            "side": "right",
            "text": "Node Connections"
           },
           "xanchor": "left"
          },
          "colorscale": [
           [
            0,
            "rgb(255,255,217)"
           ],
           [
            0.125,
            "rgb(237,248,177)"
           ],
           [
            0.25,
            "rgb(199,233,180)"
           ],
           [
            0.375,
            "rgb(127,205,187)"
           ],
           [
            0.5,
            "rgb(65,182,196)"
           ],
           [
            0.625,
            "rgb(29,145,192)"
           ],
           [
            0.75,
            "rgb(34,94,168)"
           ],
           [
            0.875,
            "rgb(37,52,148)"
           ],
           [
            1,
            "rgb(8,29,88)"
           ]
          ],
          "line": {
           "color": "Black",
           "width": 2
          },
          "reversescale": true,
          "showscale": true,
          "size": [
           10,
           10,
           10,
           10,
           10,
           10,
           10,
           10,
           10,
           10,
           10,
           10,
           10,
           10,
           10,
           10,
           10,
           10,
           10,
           10,
           10,
           10,
           10,
           10,
           10,
           10,
           10,
           10,
           10,
           20,
           10,
           10,
           10,
           10,
           10,
           10,
           10,
           10,
           10,
           10,
           10,
           10,
           10,
           20,
           10,
           10,
           10,
           10,
           10,
           10
          ]
         },
         "mode": "markers",
         "text": [
          "# of connections: 5",
          "# of connections: 4",
          "# of connections: 5",
          "# of connections: 3",
          "# of connections: 4",
          "# of connections: 5",
          "# of connections: 4",
          "# of connections: 3",
          "# of connections: 2",
          "# of connections: 1",
          "# of connections: 4",
          "# of connections: 4",
          "# of connections: 2",
          "# of connections: 1",
          "# of connections: 1",
          "# of connections: 1",
          "# of connections: 0",
          "# of connections: 1",
          "# of connections: 1",
          "# of connections: 1",
          "# of connections: 0",
          "# of connections: 1",
          "# of connections: 1",
          "# of connections: 1",
          "# of connections: 2",
          "# of connections: 1",
          "# of connections: 1",
          "# of connections: 0",
          "# of connections: 1",
          "# of connections: 2",
          "# of connections: 1",
          "# of connections: 1",
          "# of connections: 1",
          "# of connections: 1",
          "# of connections: 1",
          "# of connections: 1",
          "# of connections: 1",
          "# of connections: 1",
          "# of connections: 1",
          "# of connections: 1",
          "# of connections: 1",
          "# of connections: 1",
          "# of connections: 1",
          "# of connections: 1",
          "# of connections: 1",
          "# of connections: 1",
          "# of connections: 1",
          "# of connections: 1",
          "# of connections: 1",
          "# of connections: 1"
         ],
         "type": "scatter",
         "x": [
          -0.18508333074320102,
          0.5506565367374933,
          -0.22279232830081871,
          -0.3965445650647933,
          0.44416072760483993,
          0.40148432635507575,
          -0.5479401538349893,
          -0.6808672837080888,
          -0.24816831541413073,
          0.06805804903927597,
          -0.03278345427660621,
          0.12871406625616727,
          0.30414340163832854,
          0.1868071358511345,
          -0.24272881510458952,
          0.5550984313053624,
          -0.6555676962097755,
          -0.18397561951654373,
          0.45623158671697006,
          0.4913928769989435,
          -0.4940769022454555,
          0.47243583101097747,
          0.22362048496630701,
          -0.5687097456244476,
          0.2525423523595844,
          0.6338336007775947,
          0.37525570885588727,
          1,
          0.01934758411451839,
          -0.15401216073447013,
          0.07868808271884935,
          -0.3081410240125815,
          0.400619907699943,
          -0.13208710712380664,
          -0.21822335305296717,
          0.23051494850186238,
          0.5242592173871969,
          0.20545415069091102,
          -0.26776618999892376,
          0.6089812898624886,
          -0.4688757896591856,
          -0.24324488954432552,
          -0.25253073918013336,
          -0.1405864998932751,
          0.43920546509533015,
          -0.2925858220274296,
          -0.7424412568778734,
          -0.6143188802290228,
          0.008447987251822744,
          -0.7659018274194289
         ],
         "y": [
          0.15617701132859238,
          0.6579988903635781,
          0.03589884283766489,
          -0.02787268264081003,
          -0.613900949136346,
          -0.5293719734635448,
          -0.09595534878878989,
          -0.10592693520468185,
          -0.9081180695615475,
          0.7825449397314543,
          0.0357991534843283,
          0.05300693320585148,
          -0.5902646291329318,
          0.11584560197562031,
          0.9108832407894023,
          0.7401128534883912,
          0.7284093574071928,
          0.2457921826125523,
          -0.4685789446584116,
          -0.5346347098100874,
          0.97255961590597,
          0.5785309128058973,
          0.0672607494571411,
          -0.17657123274051334,
          -0.6819768036655809,
          0.6639150766252953,
          -0.4587203305572425,
          0.3264050420188127,
          0.08059017895623748,
          0.08271965390652203,
          0.8521410749938588,
          -0.9351147094708336,
          -0.6803304326960112,
          0.2222783085252949,
          0.9556538328153147,
          -0.76405324753245,
          -0.6636624283131394,
          0.010453525243115836,
          -0.024496882099561305,
          0.7172742087307804,
          -0.011334291827378228,
          0.2219743507616558,
          -0.9885907764295122,
          0.0053101642619526,
          -0.6555773465120179,
          0.06748979413854912,
          -0.06822341490122735,
          -0.13210929077569644,
          -0.029241376381910177,
          -0.14239869007080258
         ]
        }
       ],
       "layout": {
        "annotations": [
         {
          "showarrow": false,
          "text": "Average degree of nodes is 1.64, average infected degree is  1.50, and diameter of graph is 7",
          "x": 0.005,
          "xref": "paper",
          "y": -0.002,
          "yref": "paper"
         }
        ],
        "hovermode": "closest",
        "margin": {
         "b": 20,
         "l": 5,
         "r": 5,
         "t": 40
        },
        "showlegend": false,
        "template": {
         "data": {
          "bar": [
           {
            "error_x": {
             "color": "#2a3f5f"
            },
            "error_y": {
             "color": "#2a3f5f"
            },
            "marker": {
             "line": {
              "color": "#E5ECF6",
              "width": 0.5
             },
             "pattern": {
              "fillmode": "overlay",
              "size": 10,
              "solidity": 0.2
             }
            },
            "type": "bar"
           }
          ],
          "barpolar": [
           {
            "marker": {
             "line": {
              "color": "#E5ECF6",
              "width": 0.5
             },
             "pattern": {
              "fillmode": "overlay",
              "size": 10,
              "solidity": 0.2
             }
            },
            "type": "barpolar"
           }
          ],
          "carpet": [
           {
            "aaxis": {
             "endlinecolor": "#2a3f5f",
             "gridcolor": "white",
             "linecolor": "white",
             "minorgridcolor": "white",
             "startlinecolor": "#2a3f5f"
            },
            "baxis": {
             "endlinecolor": "#2a3f5f",
             "gridcolor": "white",
             "linecolor": "white",
             "minorgridcolor": "white",
             "startlinecolor": "#2a3f5f"
            },
            "type": "carpet"
           }
          ],
          "choropleth": [
           {
            "colorbar": {
             "outlinewidth": 0,
             "ticks": ""
            },
            "type": "choropleth"
           }
          ],
          "contour": [
           {
            "colorbar": {
             "outlinewidth": 0,
             "ticks": ""
            },
            "colorscale": [
             [
              0,
              "#0d0887"
             ],
             [
              0.1111111111111111,
              "#46039f"
             ],
             [
              0.2222222222222222,
              "#7201a8"
             ],
             [
              0.3333333333333333,
              "#9c179e"
             ],
             [
              0.4444444444444444,
              "#bd3786"
             ],
             [
              0.5555555555555556,
              "#d8576b"
             ],
             [
              0.6666666666666666,
              "#ed7953"
             ],
             [
              0.7777777777777778,
              "#fb9f3a"
             ],
             [
              0.8888888888888888,
              "#fdca26"
             ],
             [
              1,
              "#f0f921"
             ]
            ],
            "type": "contour"
           }
          ],
          "contourcarpet": [
           {
            "colorbar": {
             "outlinewidth": 0,
             "ticks": ""
            },
            "type": "contourcarpet"
           }
          ],
          "heatmap": [
           {
            "colorbar": {
             "outlinewidth": 0,
             "ticks": ""
            },
            "colorscale": [
             [
              0,
              "#0d0887"
             ],
             [
              0.1111111111111111,
              "#46039f"
             ],
             [
              0.2222222222222222,
              "#7201a8"
             ],
             [
              0.3333333333333333,
              "#9c179e"
             ],
             [
              0.4444444444444444,
              "#bd3786"
             ],
             [
              0.5555555555555556,
              "#d8576b"
             ],
             [
              0.6666666666666666,
              "#ed7953"
             ],
             [
              0.7777777777777778,
              "#fb9f3a"
             ],
             [
              0.8888888888888888,
              "#fdca26"
             ],
             [
              1,
              "#f0f921"
             ]
            ],
            "type": "heatmap"
           }
          ],
          "heatmapgl": [
           {
            "colorbar": {
             "outlinewidth": 0,
             "ticks": ""
            },
            "colorscale": [
             [
              0,
              "#0d0887"
             ],
             [
              0.1111111111111111,
              "#46039f"
             ],
             [
              0.2222222222222222,
              "#7201a8"
             ],
             [
              0.3333333333333333,
              "#9c179e"
             ],
             [
              0.4444444444444444,
              "#bd3786"
             ],
             [
              0.5555555555555556,
              "#d8576b"
             ],
             [
              0.6666666666666666,
              "#ed7953"
             ],
             [
              0.7777777777777778,
              "#fb9f3a"
             ],
             [
              0.8888888888888888,
              "#fdca26"
             ],
             [
              1,
              "#f0f921"
             ]
            ],
            "type": "heatmapgl"
           }
          ],
          "histogram": [
           {
            "marker": {
             "pattern": {
              "fillmode": "overlay",
              "size": 10,
              "solidity": 0.2
             }
            },
            "type": "histogram"
           }
          ],
          "histogram2d": [
           {
            "colorbar": {
             "outlinewidth": 0,
             "ticks": ""
            },
            "colorscale": [
             [
              0,
              "#0d0887"
             ],
             [
              0.1111111111111111,
              "#46039f"
             ],
             [
              0.2222222222222222,
              "#7201a8"
             ],
             [
              0.3333333333333333,
              "#9c179e"
             ],
             [
              0.4444444444444444,
              "#bd3786"
             ],
             [
              0.5555555555555556,
              "#d8576b"
             ],
             [
              0.6666666666666666,
              "#ed7953"
             ],
             [
              0.7777777777777778,
              "#fb9f3a"
             ],
             [
              0.8888888888888888,
              "#fdca26"
             ],
             [
              1,
              "#f0f921"
             ]
            ],
            "type": "histogram2d"
           }
          ],
          "histogram2dcontour": [
           {
            "colorbar": {
             "outlinewidth": 0,
             "ticks": ""
            },
            "colorscale": [
             [
              0,
              "#0d0887"
             ],
             [
              0.1111111111111111,
              "#46039f"
             ],
             [
              0.2222222222222222,
              "#7201a8"
             ],
             [
              0.3333333333333333,
              "#9c179e"
             ],
             [
              0.4444444444444444,
              "#bd3786"
             ],
             [
              0.5555555555555556,
              "#d8576b"
             ],
             [
              0.6666666666666666,
              "#ed7953"
             ],
             [
              0.7777777777777778,
              "#fb9f3a"
             ],
             [
              0.8888888888888888,
              "#fdca26"
             ],
             [
              1,
              "#f0f921"
             ]
            ],
            "type": "histogram2dcontour"
           }
          ],
          "mesh3d": [
           {
            "colorbar": {
             "outlinewidth": 0,
             "ticks": ""
            },
            "type": "mesh3d"
           }
          ],
          "parcoords": [
           {
            "line": {
             "colorbar": {
              "outlinewidth": 0,
              "ticks": ""
             }
            },
            "type": "parcoords"
           }
          ],
          "pie": [
           {
            "automargin": true,
            "type": "pie"
           }
          ],
          "scatter": [
           {
            "fillpattern": {
             "fillmode": "overlay",
             "size": 10,
             "solidity": 0.2
            },
            "type": "scatter"
           }
          ],
          "scatter3d": [
           {
            "line": {
             "colorbar": {
              "outlinewidth": 0,
              "ticks": ""
             }
            },
            "marker": {
             "colorbar": {
              "outlinewidth": 0,
              "ticks": ""
             }
            },
            "type": "scatter3d"
           }
          ],
          "scattercarpet": [
           {
            "marker": {
             "colorbar": {
              "outlinewidth": 0,
              "ticks": ""
             }
            },
            "type": "scattercarpet"
           }
          ],
          "scattergeo": [
           {
            "marker": {
             "colorbar": {
              "outlinewidth": 0,
              "ticks": ""
             }
            },
            "type": "scattergeo"
           }
          ],
          "scattergl": [
           {
            "marker": {
             "colorbar": {
              "outlinewidth": 0,
              "ticks": ""
             }
            },
            "type": "scattergl"
           }
          ],
          "scattermapbox": [
           {
            "marker": {
             "colorbar": {
              "outlinewidth": 0,
              "ticks": ""
             }
            },
            "type": "scattermapbox"
           }
          ],
          "scatterpolar": [
           {
            "marker": {
             "colorbar": {
              "outlinewidth": 0,
              "ticks": ""
             }
            },
            "type": "scatterpolar"
           }
          ],
          "scatterpolargl": [
           {
            "marker": {
             "colorbar": {
              "outlinewidth": 0,
              "ticks": ""
             }
            },
            "type": "scatterpolargl"
           }
          ],
          "scatterternary": [
           {
            "marker": {
             "colorbar": {
              "outlinewidth": 0,
              "ticks": ""
             }
            },
            "type": "scatterternary"
           }
          ],
          "surface": [
           {
            "colorbar": {
             "outlinewidth": 0,
             "ticks": ""
            },
            "colorscale": [
             [
              0,
              "#0d0887"
             ],
             [
              0.1111111111111111,
              "#46039f"
             ],
             [
              0.2222222222222222,
              "#7201a8"
             ],
             [
              0.3333333333333333,
              "#9c179e"
             ],
             [
              0.4444444444444444,
              "#bd3786"
             ],
             [
              0.5555555555555556,
              "#d8576b"
             ],
             [
              0.6666666666666666,
              "#ed7953"
             ],
             [
              0.7777777777777778,
              "#fb9f3a"
             ],
             [
              0.8888888888888888,
              "#fdca26"
             ],
             [
              1,
              "#f0f921"
             ]
            ],
            "type": "surface"
           }
          ],
          "table": [
           {
            "cells": {
             "fill": {
              "color": "#EBF0F8"
             },
             "line": {
              "color": "white"
             }
            },
            "header": {
             "fill": {
              "color": "#C8D4E3"
             },
             "line": {
              "color": "white"
             }
            },
            "type": "table"
           }
          ]
         },
         "layout": {
          "annotationdefaults": {
           "arrowcolor": "#2a3f5f",
           "arrowhead": 0,
           "arrowwidth": 1
          },
          "autotypenumbers": "strict",
          "coloraxis": {
           "colorbar": {
            "outlinewidth": 0,
            "ticks": ""
           }
          },
          "colorscale": {
           "diverging": [
            [
             0,
             "#8e0152"
            ],
            [
             0.1,
             "#c51b7d"
            ],
            [
             0.2,
             "#de77ae"
            ],
            [
             0.3,
             "#f1b6da"
            ],
            [
             0.4,
             "#fde0ef"
            ],
            [
             0.5,
             "#f7f7f7"
            ],
            [
             0.6,
             "#e6f5d0"
            ],
            [
             0.7,
             "#b8e186"
            ],
            [
             0.8,
             "#7fbc41"
            ],
            [
             0.9,
             "#4d9221"
            ],
            [
             1,
             "#276419"
            ]
           ],
           "sequential": [
            [
             0,
             "#0d0887"
            ],
            [
             0.1111111111111111,
             "#46039f"
            ],
            [
             0.2222222222222222,
             "#7201a8"
            ],
            [
             0.3333333333333333,
             "#9c179e"
            ],
            [
             0.4444444444444444,
             "#bd3786"
            ],
            [
             0.5555555555555556,
             "#d8576b"
            ],
            [
             0.6666666666666666,
             "#ed7953"
            ],
            [
             0.7777777777777778,
             "#fb9f3a"
            ],
            [
             0.8888888888888888,
             "#fdca26"
            ],
            [
             1,
             "#f0f921"
            ]
           ],
           "sequentialminus": [
            [
             0,
             "#0d0887"
            ],
            [
             0.1111111111111111,
             "#46039f"
            ],
            [
             0.2222222222222222,
             "#7201a8"
            ],
            [
             0.3333333333333333,
             "#9c179e"
            ],
            [
             0.4444444444444444,
             "#bd3786"
            ],
            [
             0.5555555555555556,
             "#d8576b"
            ],
            [
             0.6666666666666666,
             "#ed7953"
            ],
            [
             0.7777777777777778,
             "#fb9f3a"
            ],
            [
             0.8888888888888888,
             "#fdca26"
            ],
            [
             1,
             "#f0f921"
            ]
           ]
          },
          "colorway": [
           "#636efa",
           "#EF553B",
           "#00cc96",
           "#ab63fa",
           "#FFA15A",
           "#19d3f3",
           "#FF6692",
           "#B6E880",
           "#FF97FF",
           "#FECB52"
          ],
          "font": {
           "color": "#2a3f5f"
          },
          "geo": {
           "bgcolor": "white",
           "lakecolor": "white",
           "landcolor": "#E5ECF6",
           "showlakes": true,
           "showland": true,
           "subunitcolor": "white"
          },
          "hoverlabel": {
           "align": "left"
          },
          "hovermode": "closest",
          "mapbox": {
           "style": "light"
          },
          "paper_bgcolor": "white",
          "plot_bgcolor": "#E5ECF6",
          "polar": {
           "angularaxis": {
            "gridcolor": "white",
            "linecolor": "white",
            "ticks": ""
           },
           "bgcolor": "#E5ECF6",
           "radialaxis": {
            "gridcolor": "white",
            "linecolor": "white",
            "ticks": ""
           }
          },
          "scene": {
           "xaxis": {
            "backgroundcolor": "#E5ECF6",
            "gridcolor": "white",
            "gridwidth": 2,
            "linecolor": "white",
            "showbackground": true,
            "ticks": "",
            "zerolinecolor": "white"
           },
           "yaxis": {
            "backgroundcolor": "#E5ECF6",
            "gridcolor": "white",
            "gridwidth": 2,
            "linecolor": "white",
            "showbackground": true,
            "ticks": "",
            "zerolinecolor": "white"
           },
           "zaxis": {
            "backgroundcolor": "#E5ECF6",
            "gridcolor": "white",
            "gridwidth": 2,
            "linecolor": "white",
            "showbackground": true,
            "ticks": "",
            "zerolinecolor": "white"
           }
          },
          "shapedefaults": {
           "line": {
            "color": "#2a3f5f"
           }
          },
          "ternary": {
           "aaxis": {
            "gridcolor": "white",
            "linecolor": "white",
            "ticks": ""
           },
           "baxis": {
            "gridcolor": "white",
            "linecolor": "white",
            "ticks": ""
           },
           "bgcolor": "#E5ECF6",
           "caxis": {
            "gridcolor": "white",
            "linecolor": "white",
            "ticks": ""
           }
          },
          "title": {
           "x": 0.05
          },
          "xaxis": {
           "automargin": true,
           "gridcolor": "white",
           "linecolor": "white",
           "ticks": "",
           "title": {
            "standoff": 15
           },
           "zerolinecolor": "white",
           "zerolinewidth": 2
          },
          "yaxis": {
           "automargin": true,
           "gridcolor": "white",
           "linecolor": "white",
           "ticks": "",
           "title": {
            "standoff": 15
           },
           "zerolinecolor": "white",
           "zerolinewidth": 2
          }
         }
        },
        "title": {
         "font": {
          "size": 16
         },
         "text": "Network Snapshot of Graph with 50 Nodes and 100 Edges where there is 1 p0 and t=5"
        },
        "xaxis": {
         "showgrid": false,
         "showticklabels": false,
         "zeroline": false
        },
        "yaxis": {
         "showgrid": false,
         "showticklabels": false,
         "zeroline": false
        }
       }
      }
     },
     "metadata": {},
     "output_type": "display_data"
    }
   ],
   "source": [
    "G = nx.from_numpy_matrix(graphs[-1])\n",
    "# G = nx.gnm_random_graph(NUM_NODES, NUM_EDGES)\n",
    "edge_x = []\n",
    "edge_y = []\n",
    "positions = nx.spring_layout(G)\n",
    "for edge in G.edges():\n",
    "    x0, y0 = positions[edge[0]]\n",
    "    x1, y1 = positions[edge[1]]\n",
    "    edge_x.append(x0)\n",
    "    edge_x.append(x1)\n",
    "    edge_x.append(None)\n",
    "    edge_y.append(y0)\n",
    "    edge_y.append(y1)\n",
    "    edge_y.append(None)\n",
    "\n",
    "\n",
    "edge_trace = go.Scatter(\n",
    "    x=edge_x, y=edge_y,\n",
    "    line=dict(width=0.5, color='#888'),\n",
    "    hoverinfo='none',\n",
    "    mode='lines')\n",
    "\n",
    "node_x = []\n",
    "node_y = []\n",
    "for node in G.nodes():\n",
    "    x, y = positions[node]\n",
    "    node_x.append(x)\n",
    "    node_y.append(y)\n",
    "\n",
    "node_trace = go.Scatter(\n",
    "    x=node_x, y=node_y,\n",
    "    mode='markers',\n",
    "    hoverinfo='text',\n",
    "    marker=dict(\n",
    "        showscale=True,\n",
    "        # colorscale options\n",
    "        #'Greys' | 'YlGnBu' | 'Greens' | 'YlOrRd' | 'Bluered' | 'RdBu' |\n",
    "        #'Reds' | 'Blues' | 'Picnic' | 'Rainbow' | 'Portland' | 'Jet' |\n",
    "        #'Hot' | 'Blackbody' | 'Earth' | 'Electric' | 'Viridis' |\n",
    "        colorscale='YlGnBu',\n",
    "        reversescale=True,\n",
    "        color=[],\n",
    "        size=[],\n",
    "        # size = 10,\n",
    "        colorbar=dict(\n",
    "            thickness=15,\n",
    "            title='Node Connections',\n",
    "            xanchor='left',\n",
    "            titleside='right'\n",
    "        ),\n",
    "        line=dict(\n",
    "            color='Black',\n",
    "            width=2\n",
    "        )))\n",
    "\n",
    "node_adjacencies = []\n",
    "node_text = []\n",
    "for node, adjacencies in enumerate(G.adjacency()):\n",
    "    node_adjacencies.append(len(adjacencies[1]))\n",
    "    node_text.append('# of connections: '+str(len(adjacencies[1])))\n",
    "avg_degree = {\n",
    "    0: np.average([adj for i, adj in enumerate(node_adjacencies) if not nodes_statuses[-1,i,-1]]),\n",
    "    1: np.average([adj for i, adj in enumerate(node_adjacencies) if nodes_statuses[-1,i,-1]]),\n",
    "}\n",
    "\n",
    "node_trace.marker.color = node_adjacencies\n",
    "node_trace.marker.size = [20 if nodes_statuses[-1,i,-1] else 10 for i in range(NUM_NODES)]\n",
    "node_trace.text = node_text\n",
    "\n",
    "fig = go.Figure(data=[edge_trace, node_trace],\n",
    "            layout=go.Layout(\n",
    "                title=f'Network Snapshot of Graph with {NUM_NODES} Nodes and {NUM_EDGES} Edges where there is 1 p0 and t=5',\n",
    "                titlefont_size=16,\n",
    "                showlegend=False,\n",
    "                hovermode='closest',\n",
    "                margin=dict(b=20,l=5,r=5,t=40),\n",
    "                annotations=[ dict(\n",
    "                    text=f'Average degree of nodes is {avg_degree[2]}, average infected degree is  {avg_degree[1]:2.2f}, and diameter of graph is {nx.diameter(max([G.subgraph(c).copy() for c in nx.connected_components(G)], key=len))}',\n",
    "                    showarrow=False,\n",
    "                    xref=\"paper\", yref=\"paper\",\n",
    "                    x=0.005, y=-0.002 ), ],\n",
    "                    \n",
    "                xaxis=dict(showgrid=False, zeroline=False, showticklabels=False),\n",
    "                yaxis=dict(showgrid=False, zeroline=False, showticklabels=False))\n",
    "                )\n",
    "fig.show()"
   ]
  },
  {
   "cell_type": "code",
   "execution_count": 177,
   "metadata": {},
   "outputs": [],
   "source": [
    "class GCNLayer(nn.Module):\n",
    "    def __init__(self, in_features, out_features, use_bias=True):\n",
    "        super(GCNLayer, self).__init__()\n",
    "        self.weight = nn.Parameter(torch.FloatTensor(torch.zeros(size=(in_features, out_features))))\n",
    "        if use_bias:\n",
    "            self.bias = nn.Parameter(torch.FloatTensor(torch.zeros(size=(out_features,))))\n",
    "        else:\n",
    "            self.register_parameter('bias', None)\n",
    "\n",
    "        self.initialize_weights()\n",
    "\n",
    "    def initialize_weights(self):\n",
    "        nn.init.xavier_uniform_(self.weight)\n",
    "        if self.bias is not None:\n",
    "            nn.init.zeros_(self.bias)\n",
    "\n",
    "    def forward(self, x, adj):\n",
    "        x = x @ self.weight\n",
    "        if self.bias is not None:\n",
    "            x += self.bias\n",
    "\n",
    "        return torch.sparse.mm(adj, x)\n"
   ]
  },
  {
   "cell_type": "code",
   "execution_count": 178,
   "metadata": {},
   "outputs": [],
   "source": [
    "\n",
    "class GraphConvolutionalNetwork(nn.Module):\n",
    "    def __init__(self, node_features, hidden_dim, num_classes, dropout, use_bias=True):\n",
    "        super(GraphConvolutionalNetwork, self).__init__()\n",
    "        self.gcn_1 = GCNLayer(node_features, hidden_dim, use_bias)\n",
    "        self.gcn_2 = GCNLayer(hidden_dim, hidden_dim, use_bias)\n",
    "        self.gcn_3 = GCNLayer(hidden_dim, num_classes, use_bias)\n",
    "        self.dropout = nn.Dropout(p=dropout)\n",
    "\n",
    "    def initialize_weights(self):\n",
    "        self.gcn_1.initialize_weights()\n",
    "        self.gcn_2.initialize_weights()\n",
    "        self.gcn_3.initialize_weights()\n",
    "\n",
    "    def forward(self, x, adj):\n",
    "        x = F.relu(self.gcn_1(x, adj))\n",
    "        x = self.dropout(x)\n",
    "        x = F.relu(self.gcn_2(x, adj))\n",
    "        x = self.dropout(x)\n",
    "        x = self.gcn_3(x, adj)\n",
    "        return x\n",
    "\n",
    "def train_model(model, features, adj_matrix, labels, learning_rate):\n",
    "    optimizer = torch.optim.Adam(model.parameters(), lr=learning_rate)\n",
    "    criterion = nn.CrossEntropyLoss()\n",
    "\n",
    "    model.train()\n",
    "    optimizer.zero_grad()\n",
    "    outputs = model(features, adj_matrix)\n",
    "    loss = criterion(outputs.flatten(), labels.float())\n",
    "    loss.backward()\n",
    "    optimizer.step()\n",
    "    return loss.item()"
   ]
  },
  {
   "cell_type": "code",
   "execution_count": 184,
   "metadata": {},
   "outputs": [],
   "source": [
    "def train_test_model(num_features, NUM_P0s):\n",
    "    model = GraphConvolutionalNetwork(num_features, 16, 1, dropout=0.1)\n",
    "    overall_testing_loss = []\n",
    "    criterion = nn.CrossEntropyLoss()\n",
    "    max_accuracy = 0\n",
    "    avg_accuracy = 0\n",
    "    for _ in range(11):\n",
    "        epoch_loss = 0\n",
    "        for i in range(int(NUM_TRAINING * TRAINING_SPLIT)):\n",
    "            features = torch.tensor(nodes_statuses[i]).reshape((NUM_NODES,num_features)).float()\n",
    "            adjacency_matrix = torch.tensor(graphs[i]).float()\n",
    "            labels = torch.tensor(initial_infected[i])\n",
    "            epoch_loss += train_model(model, features, adjacency_matrix, labels, learning_rate=0.001)\n",
    "\n",
    "\n",
    "        test_loss = 0\n",
    "        correct = 0\n",
    "        total = 0\n",
    "        model.eval()\n",
    "        avg_infected_nodes = 0\n",
    "        for i in range(int(NUM_TRAINING*TRAINING_SPLIT), NUM_TRAINING):\n",
    "            features = torch.tensor(nodes_statuses[i]).reshape((NUM_NODES,num_features)).float()\n",
    "            adjacency_matrix = torch.tensor(graphs[i]).float()\n",
    "            labels = torch.tensor(initial_infected[i])\n",
    "            with torch.no_grad():\n",
    "                output = model(features, adjacency_matrix)\n",
    "                test_loss += criterion(output.flatten(), labels.float()).item()\n",
    "                predicted = torch.topk(output.flatten(), NUM_P0s).indices\n",
    "                expected = torch.topk(labels.float(), NUM_P0s).indices\n",
    "                total += 1\n",
    "                correct += len(np.intersect1d(np.array(predicted), np.array(expected)))/NUM_P0s\n",
    "                avg_infected_nodes += torch.sum(features)\n",
    "        overall_testing_loss.append(test_loss)\n",
    "        max_accuracy = max(max_accuracy, 100 * correct / total)\n",
    "        avg_accuracy += 100 * correct / total\n",
    "    return max_accuracy, avg_accuracy/11\n"
   ]
  },
  {
   "cell_type": "markdown",
   "metadata": {},
   "source": [
    "## Grid Results"
   ]
  },
  {
   "cell_type": "code",
   "execution_count": 185,
   "metadata": {},
   "outputs": [
    {
     "name": "stderr",
     "output_type": "stream",
     "text": [
      "/var/folders/hp/_5r1484j457cv8ysknrcyhvr0000gn/T/ipykernel_99427/1924104420.py:37: FutureWarning:\n",
      "\n",
      "adjacency_matrix will return a scipy.sparse array instead of a matrix in Networkx 3.0.\n",
      "\n"
     ]
    },
    {
     "name": "stdout",
     "output_type": "stream",
     "text": [
      "For number of days=5, 1 Patient 0s, and snapshots at the following time steps: [4], the max accuracy was  26.73% and avg accuracy was  23.50%\n",
      "For number of days=5, 1 Patient 0s, and snapshots at the following time steps: [2, 4], the max accuracy was  33.57% and avg accuracy was  26.41%\n",
      "For number of days=5, 1 Patient 0s, and snapshots at the following time steps: [1, 2, 4], the max accuracy was  30.43% and avg accuracy was  21.50%\n",
      "For number of days=5, 2 Patient 0s, and snapshots at the following time steps: [4], the max accuracy was  22.08% and avg accuracy was  20.08%\n",
      "For number of days=5, 2 Patient 0s, and snapshots at the following time steps: [2, 4], the max accuracy was  19.93% and avg accuracy was  17.48%\n",
      "For number of days=5, 2 Patient 0s, and snapshots at the following time steps: [1, 2, 4], the max accuracy was  23.23% and avg accuracy was  17.25%\n",
      "For number of days=5, 3 Patient 0s, and snapshots at the following time steps: [4], the max accuracy was  19.92% and avg accuracy was  18.65%\n",
      "For number of days=5, 3 Patient 0s, and snapshots at the following time steps: [2, 4], the max accuracy was  17.97% and avg accuracy was  15.96%\n",
      "For number of days=5, 3 Patient 0s, and snapshots at the following time steps: [1, 2, 4], the max accuracy was  18.76% and avg accuracy was  15.97%\n",
      "For number of days=10, 1 Patient 0s, and snapshots at the following time steps: [9], the max accuracy was  13.47% and avg accuracy was  11.14%\n",
      "For number of days=10, 1 Patient 0s, and snapshots at the following time steps: [4, 9], the max accuracy was  23.73% and avg accuracy was  14.98%\n",
      "For number of days=10, 1 Patient 0s, and snapshots at the following time steps: [3, 6, 9], the max accuracy was  22.17% and avg accuracy was  10.32%\n",
      "For number of days=10, 2 Patient 0s, and snapshots at the following time steps: [9], the max accuracy was  15.08% and avg accuracy was  13.85%\n",
      "For number of days=10, 2 Patient 0s, and snapshots at the following time steps: [4, 9], the max accuracy was  18.53% and avg accuracy was  12.90%\n",
      "For number of days=10, 2 Patient 0s, and snapshots at the following time steps: [3, 6, 9], the max accuracy was  19.92% and avg accuracy was  13.77%\n",
      "For number of days=10, 3 Patient 0s, and snapshots at the following time steps: [9], the max accuracy was  12.04% and avg accuracy was  10.33%\n",
      "For number of days=10, 3 Patient 0s, and snapshots at the following time steps: [4, 9], the max accuracy was  20.93% and avg accuracy was  18.39%\n",
      "For number of days=10, 3 Patient 0s, and snapshots at the following time steps: [3, 6, 9], the max accuracy was  16.87% and avg accuracy was  12.26%\n",
      "For number of days=20, 1 Patient 0s, and snapshots at the following time steps: [19], the max accuracy was  6.60% and avg accuracy was  5.27%\n",
      "For number of days=20, 1 Patient 0s, and snapshots at the following time steps: [9, 19], the max accuracy was  11.60% and avg accuracy was  10.87%\n",
      "For number of days=20, 1 Patient 0s, and snapshots at the following time steps: [6, 12, 19], the max accuracy was  15.53% and avg accuracy was  12.00%\n",
      "For number of days=20, 2 Patient 0s, and snapshots at the following time steps: [19], the max accuracy was  6.13% and avg accuracy was  4.32%\n",
      "For number of days=20, 2 Patient 0s, and snapshots at the following time steps: [9, 19], the max accuracy was  12.88% and avg accuracy was  12.17%\n",
      "For number of days=20, 2 Patient 0s, and snapshots at the following time steps: [6, 12, 19], the max accuracy was  13.95% and avg accuracy was  11.55%\n",
      "For number of days=20, 3 Patient 0s, and snapshots at the following time steps: [19], the max accuracy was  8.13% and avg accuracy was  6.44%\n",
      "For number of days=20, 3 Patient 0s, and snapshots at the following time steps: [9, 19], the max accuracy was  13.23% and avg accuracy was  12.32%\n",
      "For number of days=20, 3 Patient 0s, and snapshots at the following time steps: [6, 12, 19], the max accuracy was  14.38% and avg accuracy was  12.92%\n"
     ]
    }
   ],
   "source": [
    "TIMESTEPS = [5, 10, 20]\n",
    "PATIENTS = [1,2,3]\n",
    "\n",
    "for t in TIMESTEPS:    \n",
    "    for p in PATIENTS:\n",
    "        for ss in [[t-1], [(t-1)//2, t-1], [(t-1)//3, 2*(t-1)//3, t-1]]:\n",
    "            graphs, nodes_statuses, initial_infected = generate_data(p, t, ss)\n",
    "            max_acc, avg_acc = train_test_model(len(ss), p)\n",
    "            print(f'For number of days={t}, {p} Patient 0s, and snapshots at the following time steps: {ss}, the max accuracy was {max_acc: 2.2f}% and avg accuracy was {avg_acc: 2.2f}%')"
   ]
  }
 ],
 "metadata": {
  "kernelspec": {
   "display_name": "Python 3",
   "language": "python",
   "name": "python3"
  },
  "language_info": {
   "codemirror_mode": {
    "name": "ipython",
    "version": 3
   },
   "file_extension": ".py",
   "mimetype": "text/x-python",
   "name": "python",
   "nbconvert_exporter": "python",
   "pygments_lexer": "ipython3",
   "version": "3.10.0"
  }
 },
 "nbformat": 4,
 "nbformat_minor": 2
}
